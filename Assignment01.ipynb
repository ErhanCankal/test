{
 "cells": [
  {
   "cell_type": "markdown",
   "metadata": {
    "id": "jcLI6dk88u6m"
   },
   "source": [
    "# Vectors\n",
    "Vectors, and vector spaces, are fundamental to *linear algebra*, and they're used in many machine learning models. Vectors describe spatial lines and planes, enabling you to perform calculations that explore relationships in multi-dimensional space.\n",
    "\n",
    "## What is a Vector\n",
    "At its simplest, a vector is a numeric element that has both *magnitude* and *direction*. The magnitude represents a distance (for example, \"2 miles\") and the direction indicates which way the vector is headed (for example, \"East\"). Vectors are defined by an n-dimensional coordinate that describe a point in space that can be connected by a line from an arbitrary origin.\n",
    "\n",
    "That all seems a bit complicated, so let's start with a simple, two-dimensional example. In this case, we'll have a vector that is defined by a point in a two-dimensional plane: A two dimensional coordinate consists of an *x* and a *y* value, and in this case we'll use **2** for *x* and **1** for *y*.\n",
    "\n",
    "Our vector can be written as **v**=(2,1), but more formally we would use the following notation, in which the dimensional coordinate values for the vector are shown as a matrix:\n",
    "\\begin{equation}\\vec{v} = \\begin{bmatrix}2 \\\\ 1 \\end{bmatrix}\\end{equation}\n",
    "\n",
    "So what exactly does that mean? Well, the coordinate is two-dimensional, and describes the movements required to get to the end point (of *head*) of the vector - in this case, we need to move 2 units in the *x* dimension, and 1 unit in the *y* dimension. Note that we don't specify a starting point for the vector - we're simply describing a destination coordinate that encapsulate the magnitide and direction of the vector. Think about it as the directions you need to follow to get to *there* from *here*, without specifying where *here* actually is!\n",
    "\n",
    "It can help to visualize the vector, and with a two-dimensional vector, that's pretty straightforward. We just define a two-dimensional plane, choose a starting point, and plot the coordinate described by the vector relative to the starting point.\n",
    "\n",
    "Run the code in the following cell to visualize the vector **v** (which remember is described by the coordinate (2,1))."
   ]
  },
  {
   "cell_type": "code",
   "execution_count": null,
   "metadata": {
    "colab": {
     "base_uri": "https://localhost:8080/",
     "height": 310
    },
    "executionInfo": {
     "elapsed": 392,
     "status": "ok",
     "timestamp": 1642908038985,
     "user": {
      "displayName": "yasin ceran",
      "photoUrl": "https://lh3.googleusercontent.com/a-/AOh14Ghbmysom3cjssqhOTBvkuQb5HbiIfoeVL9OoEBiYA=s64",
      "userId": "13329137419290567799"
     },
     "user_tz": 480
    },
    "id": "-14AgKgU8u6q",
    "outputId": "8e0ebf8c-868e-45d3-f5bd-38d2335e1749"
   },
   "outputs": [
    {
     "data": {
      "image/png": "[encoded data removed]",
      "text/plain": [
       "<Figure size 432x288 with 1 Axes>"
      ]
     },
     "metadata": {
      "needs_background": "light"
     },
     "output_type": "display_data"
    }
   ],
   "source": [
    "%matplotlib inline\n",
    "\n",
    "import numpy as np\n",
    "import matplotlib.pyplot as plt\n",
    "\n",
    "# We'll use a numpy array for our vector\n",
    "v = np.array([2,1])\n",
    "\n",
    "# and we'll use a quiver plot to visualize it.\n",
    "origin = [0], [0]\n",
    "plt.axis('equal')\n",
    "plt.grid()\n",
    "plt.ticklabel_format(style='sci', axis='both', scilimits=(0,0))\n",
    "plt.quiver(*origin, *v, scale=10, color='r')\n",
    "plt.show()"
   ]
  },
  {
   "cell_type": "markdown",
   "metadata": {
    "id": "gYhP6EkT8u6r"
   },
   "source": [
    "Note that we can use a numpy array to define the vector in Python; so to create our (2,1) vector, we simply create a numpy array with the elements [2,1]. We've then used a quiver plot to visualize the vector, using the point 0,0 as the starting point (or *origin*). Our vector of (2,1) is shown as an arrow that starts at 0,0 and moves 2 units along the *x* axis (to the right) and 1 unit along the *y* axis (up)."
   ]
  },
  {
   "cell_type": "markdown",
   "metadata": {
    "id": "SIG54wpp8u6s"
   },
   "source": [
    "The simplest way to represent vectors in Python is using a list structure. A vector is constructed by giving the list of elements surrounded by square brackets, with the\n",
    "elements separated by commas. The assignment operator `=` is used to give a name to the `list`. The `len()` function returns the size (dimension)."
   ]
  },
  {
   "cell_type": "code",
   "execution_count": null,
   "metadata": {
    "colab": {
     "base_uri": "https://localhost:8080/"
    },
    "executionInfo": {
     "elapsed": 215,
     "status": "ok",
     "timestamp": 1642908055917,
     "user": {
      "displayName": "yasin ceran",
      "photoUrl": "https://lh3.googleusercontent.com/a-/AOh14Ghbmysom3cjssqhOTBvkuQb5HbiIfoeVL9OoEBiYA=s64",
      "userId": "13329137419290567799"
     },
     "user_tz": 480
    },
    "id": "lgMoe35r8u6t",
    "outputId": "82cc08ab-b886-4a85-defa-9e2d73ad8c8b"
   },
   "outputs": [
    {
     "data": {
      "text/plain": [
       "4"
      ]
     },
     "execution_count": 2,
     "metadata": {},
     "output_type": "execute_result"
    }
   ],
   "source": [
    "x = [-1.1, 0.0, 3.6, -7.2]\n",
    "len(x)"
   ]
  },
  {
   "cell_type": "code",
   "execution_count": 1,
   "metadata": {},
   "outputs": [
    {
     "data": {
      "text/plain": [
       "3"
      ]
     },
     "execution_count": 1,
     "metadata": {},
     "output_type": "execute_result"
    }
   ],
   "source": [
    "y=[1,2,4]\n",
    "len(y)"
   ]
  },
  {
   "cell_type": "markdown",
   "metadata": {
    "id": "ojHQ-Kx58u6u"
   },
   "source": [
    "#### Numpy Arrays\n",
    "Arrays are the main data structure used in machine learning. In Python, arrays from the `NumPy` library, called N-dimensional arrays or the `ndarray`, are used as the primary data structure for representing data. The main data structure in `NumPy` is the `ndarray`, which is a shorthand name for N-dimensional array. When working with `NumPy`, data in an `ndarray` is simply referred to as an array. It is a fixed-sized array in memory that contains data of the same type, such as integers or  foating point values."
   ]
  },
  {
   "cell_type": "code",
   "execution_count": null,
   "metadata": {
    "colab": {
     "base_uri": "https://localhost:8080/"
    },
    "executionInfo": {
     "elapsed": 238,
     "status": "ok",
     "timestamp": 1642908061118,
     "user": {
      "displayName": "yasin ceran",
      "photoUrl": "https://lh3.googleusercontent.com/a-/AOh14Ghbmysom3cjssqhOTBvkuQb5HbiIfoeVL9OoEBiYA=s64",
      "userId": "13329137419290567799"
     },
     "user_tz": 480
    },
    "id": "xrun-Nnl8u6u",
    "outputId": "d9e8cea4-73e7-4d51-eb15-7dcff3da5c79"
   },
   "outputs": [
    {
     "name": "stdout",
     "output_type": "stream",
     "text": [
      "[1. 2. 3.]\n",
      "(3,)\n",
      "float64\n"
     ]
    }
   ],
   "source": [
    "# create array\n",
    "from numpy import array\n",
    "# create array\n",
    "l = [1.0, 2.0, 3.0]\n",
    "a = array(l)\n",
    "# display array\n",
    "print(a)\n",
    "# display array shape\n",
    "print(a.shape)\n",
    "# display array data type\n",
    "print(a.dtype)"
   ]
  },
  {
   "cell_type": "code",
   "execution_count": 6,
   "metadata": {
    "id": "lucsD8rn8u6w"
   },
   "outputs": [
    {
     "data": {
      "text/plain": [
       "((3,), 3)"
      ]
     },
     "execution_count": 6,
     "metadata": {},
     "output_type": "execute_result"
    }
   ],
   "source": [
    "import numpy as np\n",
    "mylist=[2,3,8]\n",
    "myarray=np.array(mylist)\n",
    "myarray[1]\n",
    "myarray.shape, len(myarray)"
   ]
  },
  {
   "cell_type": "markdown",
   "metadata": {
    "id": "SwKbZFS18u6w"
   },
   "source": [
    "The common way to represent vectors in Python is to use a `numpy` array. To do so, we must first import the `numpy` package."
   ]
  },
  {
   "cell_type": "code",
   "execution_count": null,
   "metadata": {
    "colab": {
     "base_uri": "https://localhost:8080/"
    },
    "executionInfo": {
     "elapsed": 186,
     "status": "ok",
     "timestamp": 1642908080911,
     "user": {
      "displayName": "yasin ceran",
      "photoUrl": "https://lh3.googleusercontent.com/a-/AOh14Ghbmysom3cjssqhOTBvkuQb5HbiIfoeVL9OoEBiYA=s64",
      "userId": "13329137419290567799"
     },
     "user_tz": 480
    },
    "id": "aaMqABK48u6x",
    "outputId": "c5024eef-55be-401b-aaec-ab85e2cd1bf4"
   },
   "outputs": [
    {
     "data": {
      "text/plain": [
       "4"
      ]
     },
     "execution_count": 4,
     "metadata": {},
     "output_type": "execute_result"
    }
   ],
   "source": [
    "import numpy as np\n",
    "x = np.array([-1.1, 0.0, 3.6, -7.2])\n",
    "len(x)"
   ]
  },
  {
   "cell_type": "markdown",
   "metadata": {
    "id": "-8EFnIDK8u6x"
   },
   "source": [
    "We can initialize numpy arrays from Python list. Here, to call the package we put `np`. in front of the array structure. Note: we have parentheses outside the square brackets. A major advantage of numpy arrays is their ability to perform linear algebra operations which make intuitive sense when we are working with vectors."
   ]
  },
  {
   "cell_type": "markdown",
   "metadata": {
    "id": "AjZQeScn8u6x"
   },
   "source": [
    "Indexing. A specific element `xi` is extracted with the expression `x[i]` where `i` is the index (which runs from 0 to n - 1, for an n-vector)."
   ]
  },
  {
   "cell_type": "code",
   "execution_count": null,
   "metadata": {
    "colab": {
     "base_uri": "https://localhost:8080/"
    },
    "executionInfo": {
     "elapsed": 175,
     "status": "ok",
     "timestamp": 1642908085121,
     "user": {
      "displayName": "yasin ceran",
      "photoUrl": "https://lh3.googleusercontent.com/a-/AOh14Ghbmysom3cjssqhOTBvkuQb5HbiIfoeVL9OoEBiYA=s64",
      "userId": "13329137419290567799"
     },
     "user_tz": 480
    },
    "id": "rFrV8FMQ8u6y",
    "outputId": "09640ed2-e2db-4830-b1ed-d29566062ab9"
   },
   "outputs": [
    {
     "data": {
      "text/plain": [
       "3.6"
      ]
     },
     "execution_count": 5,
     "metadata": {},
     "output_type": "execute_result"
    }
   ],
   "source": [
    "import numpy as np\n",
    "x = np.array([-1.1, 0.0, 3.6, -7.2])\n",
    "x[2]"
   ]
  },
  {
   "cell_type": "markdown",
   "metadata": {
    "id": "nza93gmJ8u6y"
   },
   "source": [
    "If we used array indexing on the left-hand side of an assignment statement, then the value of the corresponding element changes."
   ]
  },
  {
   "cell_type": "code",
   "execution_count": null,
   "metadata": {
    "colab": {
     "base_uri": "https://localhost:8080/"
    },
    "executionInfo": {
     "elapsed": 314,
     "status": "ok",
     "timestamp": 1642908089232,
     "user": {
      "displayName": "yasin ceran",
      "photoUrl": "https://lh3.googleusercontent.com/a-/AOh14Ghbmysom3cjssqhOTBvkuQb5HbiIfoeVL9OoEBiYA=s64",
      "userId": "13329137419290567799"
     },
     "user_tz": 480
    },
    "id": "WcR_ppOe8u6z",
    "outputId": "78ca68e7-8f45-4f7b-edd3-ccc87c607048"
   },
   "outputs": [
    {
     "name": "stdout",
     "output_type": "stream",
     "text": [
      "[-1.1  0.  20.  -7.2]\n"
     ]
    }
   ],
   "source": [
    "x[2] = 20.0\n",
    "print(x)"
   ]
  },
  {
   "cell_type": "markdown",
   "metadata": {
    "id": "TXASJ50M8u6z"
   },
   "source": [
    "-1 is a special index in Python. It is the index of the last element in an array."
   ]
  },
  {
   "cell_type": "code",
   "execution_count": null,
   "metadata": {
    "colab": {
     "base_uri": "https://localhost:8080/"
    },
    "executionInfo": {
     "elapsed": 3,
     "status": "ok",
     "timestamp": 1642908091269,
     "user": {
      "displayName": "yasin ceran",
      "photoUrl": "https://lh3.googleusercontent.com/a-/AOh14Ghbmysom3cjssqhOTBvkuQb5HbiIfoeVL9OoEBiYA=s64",
      "userId": "13329137419290567799"
     },
     "user_tz": 480
    },
    "id": "k79U-hJC8u60",
    "outputId": "c1db94b3-7f50-4798-e2a1-6a148b344fcb"
   },
   "outputs": [
    {
     "data": {
      "text/plain": [
       "-7.2"
      ]
     },
     "execution_count": 7,
     "metadata": {},
     "output_type": "execute_result"
    }
   ],
   "source": [
    "x[-1]"
   ]
  },
  {
   "cell_type": "markdown",
   "metadata": {
    "id": "u0gZEuoj8u60"
   },
   "source": [
    "#### Assignment versus copying\n",
    "The behavior of an assignment statement `y = x` where `x` is an array may be surprising for those who use other languages like Matlab or Octave. The assignment expression gives a new name `y` to the same array that is already referenced by `x` instead of creating a copy of `x`."
   ]
  },
  {
   "cell_type": "code",
   "execution_count": null,
   "metadata": {
    "colab": {
     "base_uri": "https://localhost:8080/"
    },
    "executionInfo": {
     "elapsed": 227,
     "status": "ok",
     "timestamp": 1642908095003,
     "user": {
      "displayName": "yasin ceran",
      "photoUrl": "https://lh3.googleusercontent.com/a-/AOh14Ghbmysom3cjssqhOTBvkuQb5HbiIfoeVL9OoEBiYA=s64",
      "userId": "13329137419290567799"
     },
     "user_tz": 480
    },
    "id": "VALCsag78u61",
    "outputId": "6278e6d6-e3b2-41e8-a15f-0c44fe761e15"
   },
   "outputs": [
    {
     "name": "stdout",
     "output_type": "stream",
     "text": [
      "[-1.1  0.  20.  -7.2]\n"
     ]
    }
   ],
   "source": [
    "import numpy as np\n",
    "x = np.array([-1.1, 0.0, 3.6, -7.2])\n",
    "y = x\n",
    "x[2] = 20.0\n",
    "print(y)"
   ]
  },
  {
   "cell_type": "markdown",
   "metadata": {
    "id": "t0qwi34w8u61"
   },
   "source": [
    "To create a new copy of array `x`, the method `copy` should be used."
   ]
  },
  {
   "cell_type": "code",
   "execution_count": 7,
   "metadata": {
    "colab": {
     "base_uri": "https://localhost:8080/"
    },
    "executionInfo": {
     "elapsed": 210,
     "status": "ok",
     "timestamp": 1642910020514,
     "user": {
      "displayName": "yasin ceran",
      "photoUrl": "https://lh3.googleusercontent.com/a-/AOh14Ghbmysom3cjssqhOTBvkuQb5HbiIfoeVL9OoEBiYA=s64",
      "userId": "13329137419290567799"
     },
     "user_tz": 480
    },
    "id": "-UirC9WfAUZ9",
    "outputId": "b35f7324-48a2-4d61-aeac-ca9c0d3d47d9"
   },
   "outputs": [
    {
     "name": "stdout",
     "output_type": "stream",
     "text": [
      "Old list: [[1, 2, 3], [4, 5, 6], [7, 8, 9]]\n",
      "New list: [[1, 2, 3], [4, 5, 6], [7, 8, 9]]\n",
      "Old list: [[1, 1, 1], [2, 2, 2], [3, 3, 3], [4, 4, 4]]\n",
      "New list: [[1, 1, 1], [2, 2, 2], [3, 3, 3]]\n",
      "Old list: [[1, 1, 1], [2, 'AA', 2], [3, 3, 3]]\n",
      "New list: [[1, 1, 1], [2, 'AA', 2], [3, 3, 3]]\n",
      "Old list: [[1, 1, 1], [2, 2, 2], [3, 3, 3]]\n",
      "New list: [[1, 1, 1], [2, 2, 2], [3, 3, 3]]\n",
      "Old list: [[1, 1, 1], ['BB', 2, 2], [3, 3, 3]]\n",
      "New list: [[1, 1, 1], [2, 2, 2], [3, 3, 3]]\n"
     ]
    }
   ],
   "source": [
    "import copy\n",
    "\n",
    "old_list = [[1, 2, 3], [4, 5, 6], [7, 8, 9]]\n",
    "new_list = copy.copy(old_list)\n",
    "\n",
    "print(\"Old list:\", old_list)\n",
    "print(\"New list:\", new_list)\n",
    "\n",
    "import copy\n",
    "\n",
    "old_list = [[1, 1, 1], [2, 2, 2], [3, 3, 3]]\n",
    "new_list = copy.copy(old_list)\n",
    "\n",
    "old_list.append([4, 4, 4])\n",
    "\n",
    "print(\"Old list:\", old_list)\n",
    "print(\"New list:\", new_list)\n",
    "\n",
    "import copy\n",
    "\n",
    "old_list = [[1, 1, 1], [2, 2, 2], [3, 3, 3]]\n",
    "new_list = copy.copy(old_list)\n",
    "\n",
    "old_list[1][1] = 'AA'\n",
    "\n",
    "print(\"Old list:\", old_list)\n",
    "print(\"New list:\", new_list)\n",
    "\n",
    "import copy\n",
    "\n",
    "old_list = [[1, 1, 1], [2, 2, 2], [3, 3, 3]]\n",
    "new_list = copy.deepcopy(old_list)\n",
    "\n",
    "print(\"Old list:\", old_list)\n",
    "print(\"New list:\", new_list)\n",
    "\n",
    "import copy\n",
    "\n",
    "old_list = [[1, 1, 1], [2, 2, 2], [3, 3, 3]]\n",
    "new_list = copy.deepcopy(old_list)\n",
    "\n",
    "old_list[1][0] = 'BB'\n",
    "\n",
    "print(\"Old list:\", old_list)\n",
    "print(\"New list:\", new_list)"
   ]
  },
  {
   "cell_type": "code",
   "execution_count": null,
   "metadata": {
    "colab": {
     "base_uri": "https://localhost:8080/"
    },
    "executionInfo": {
     "elapsed": 212,
     "status": "ok",
     "timestamp": 1642908555802,
     "user": {
      "displayName": "yasin ceran",
      "photoUrl": "https://lh3.googleusercontent.com/a-/AOh14Ghbmysom3cjssqhOTBvkuQb5HbiIfoeVL9OoEBiYA=s64",
      "userId": "13329137419290567799"
     },
     "user_tz": 480
    },
    "id": "HceiT4Gk8u61",
    "outputId": "4061db07-824c-44a1-ac4f-549a2dfcef0d"
   },
   "outputs": [
    {
     "name": "stdout",
     "output_type": "stream",
     "text": [
      "[-1.1  0.   3.6 -7.2]\n",
      "[-1.1  0.  20.  -7.2]\n",
      "[-1.1  0.   5.  -7.2]\n",
      "[-1.1  0.  20.  -7.2]\n"
     ]
    }
   ],
   "source": [
    "import numpy as np\n",
    "x = np.array([-1.1, 0.0, 3.6, -7.2])\n",
    "y = x.copy()\n",
    "x[2] = 20.0\n",
    "print(y)\n",
    "y[2]=5\n",
    "print(x)\n",
    "print(y)"
   ]
  },
  {
   "cell_type": "markdown",
   "metadata": {
    "id": "XlulDZaK8u62"
   },
   "source": [
    "#### Vector Equality\n",
    "Equality of vectors is checked using the relational operator `== `(double equal signs). The Python expression evaluates to `True` if the expression on the left and right-hand side of the relational operator is equal, and to `False` otherwise."
   ]
  },
  {
   "cell_type": "code",
   "execution_count": null,
   "metadata": {
    "id": "L_WfFnb48u62",
    "outputId": "df832a63-e7ac-4d25-9eec-a0689452f604"
   },
   "outputs": [
    {
     "data": {
      "text/plain": [
       "array([ True,  True,  True,  True])"
      ]
     },
     "execution_count": 8,
     "metadata": {},
     "output_type": "execute_result"
    }
   ],
   "source": [
    "import numpy as np\n",
    "x = np.array([-1.1, 0.0, 3.6, -7.2])\n",
    "y = x.copy()\n",
    "x == y"
   ]
  },
  {
   "cell_type": "code",
   "execution_count": null,
   "metadata": {
    "id": "CMXeu62T8u62",
    "outputId": "4cf0f6db-1acd-480a-bd9b-671f2b3d6500"
   },
   "outputs": [
    {
     "data": {
      "text/plain": [
       "array([ True,  True,  True, False])"
      ]
     },
     "execution_count": 9,
     "metadata": {},
     "output_type": "execute_result"
    }
   ],
   "source": [
    "import numpy as np\n",
    "x = np.array([-1.1, 0.0, 3.6, -7.2])\n",
    "y = x.copy()\n",
    "y[3] = 9.0\n",
    "x == y"
   ]
  },
  {
   "cell_type": "markdown",
   "metadata": {
    "id": "9KMFzmb08u62"
   },
   "source": [
    "Here four evaluations (`True` or `False`) are shown because applying relational operator on `numpy` array performs element-wise comparison. However, if we apply the relational operator on list structures, the Python expression evaluates to `True` only when both sides have the same length and identical entries."
   ]
  },
  {
   "cell_type": "code",
   "execution_count": null,
   "metadata": {
    "id": "vgnYPBj88u63",
    "outputId": "abf65f30-8340-44c0-a504-3c21f1a4b74f"
   },
   "outputs": [
    {
     "data": {
      "text/plain": [
       "True"
      ]
     },
     "execution_count": 10,
     "metadata": {},
     "output_type": "execute_result"
    }
   ],
   "source": [
    "x = [-1.1, 0.0, 3.6, -7.2]\n",
    "y = x.copy()\n",
    "x == y"
   ]
  },
  {
   "cell_type": "code",
   "execution_count": null,
   "metadata": {
    "id": "DUb2xAMF8u63",
    "outputId": "7847eded-8225-4db2-d130-60736243734d"
   },
   "outputs": [
    {
     "data": {
      "text/plain": [
       "False"
      ]
     },
     "execution_count": 2,
     "metadata": {},
     "output_type": "execute_result"
    }
   ],
   "source": [
    "x = [-1.1, 0.0, 3.6, -7.2]\n",
    "y = x.copy()\n",
    "y[3] = 9.0\n",
    "x == y"
   ]
  },
  {
   "cell_type": "markdown",
   "metadata": {
    "id": "2VmukyUf8u63"
   },
   "source": [
    "#### Scalars versus 1-vectors:\n",
    "\n",
    "In the mathematical notations, 1-vector is considered as a scalar. However, in Python, 1-vectors are not the same as scalars. For list structure, Python distinguishes 1-vector (list with only one element) `[2.4]` and the number `2.4`."
   ]
  },
  {
   "cell_type": "code",
   "execution_count": null,
   "metadata": {
    "id": "rPBjau5y8u63",
    "outputId": "291d1414-2ff4-40b3-e2a5-ccb3e0e87e42"
   },
   "outputs": [
    {
     "data": {
      "text/plain": [
       "False"
      ]
     },
     "execution_count": 12,
     "metadata": {},
     "output_type": "execute_result"
    }
   ],
   "source": [
    "x = 2.4\n",
    "y = [2.4]\n",
    "x == y"
   ]
  },
  {
   "cell_type": "code",
   "execution_count": 9,
   "metadata": {},
   "outputs": [
    {
     "data": {
      "text/plain": [
       "False"
      ]
     },
     "execution_count": 9,
     "metadata": {},
     "output_type": "execute_result"
    }
   ],
   "source": [
    "x = 2.4\n",
    "y[0]==x"
   ]
  },
  {
   "cell_type": "code",
   "execution_count": null,
   "metadata": {
    "id": "hEWqDBP-8u64",
    "outputId": "09e03cb5-6a17-41d6-8699-dd80c1de20d5"
   },
   "outputs": [
    {
     "data": {
      "text/plain": [
       "True"
      ]
     },
     "execution_count": 14,
     "metadata": {},
     "output_type": "execute_result"
    }
   ],
   "source": [
    "y[0] == 2.4"
   ]
  },
  {
   "cell_type": "markdown",
   "metadata": {
    "id": "1HLKSeHn8u64"
   },
   "source": [
    "For numpy arrays, Python compares the elements inside `np.array([2.4])` with the scalar. In our example, Python compares the first (and only) element of `y` to the number `2.4`. Hence, `numpy` 1-vectors behave like scalars."
   ]
  },
  {
   "cell_type": "code",
   "execution_count": null,
   "metadata": {
    "id": "C5LEyGRz8u64",
    "outputId": "ed241a31-c8fb-4a38-c9c9-37e6a3655755"
   },
   "outputs": [
    {
     "data": {
      "text/plain": [
       "array([ True])"
      ]
     },
     "execution_count": 15,
     "metadata": {},
     "output_type": "execute_result"
    }
   ],
   "source": [
    "import numpy as np\n",
    "x = 2.4\n",
    "y = np.array([2.4])\n",
    "x == y"
   ]
  },
  {
   "cell_type": "markdown",
   "metadata": {
    "id": "u3ivKVqG8u65"
   },
   "source": [
    "#### Block and Stacked Vectors\n",
    "In Python, we can construct a block vector using the numpy function `concatenate()`. Remember you need an extra set of parentheses over the vectors that you want to concatenate. The use of numpy array or list structure does not create a huge difference here.\n",
    "\n",
    "There are few Python operations that appear to be able to construct a block or stacked vector but do not. For example, `z = (x,y)` creates a tuple\n",
    "of two vectors; `z = [x,y]` creates an array of the two vectors. Both of these are valid Python expression but neither of them is the stacked vector."
   ]
  },
  {
   "cell_type": "code",
   "execution_count": null,
   "metadata": {
    "colab": {
     "base_uri": "https://localhost:8080/"
    },
    "executionInfo": {
     "elapsed": 184,
     "status": "ok",
     "timestamp": 1642908645031,
     "user": {
      "displayName": "yasin ceran",
      "photoUrl": "https://lh3.googleusercontent.com/a-/AOh14Ghbmysom3cjssqhOTBvkuQb5HbiIfoeVL9OoEBiYA=s64",
      "userId": "13329137419290567799"
     },
     "user_tz": 480
    },
    "id": "7V3Y8U3x8u65",
    "outputId": "98557b64-db90-4ebb-e5ca-b81e8c171c35"
   },
   "outputs": [
    {
     "name": "stdout",
     "output_type": "stream",
     "text": [
      "[ 1 -2  1  1  0]\n",
      "[array([ 1, -2]), array([1, 1, 0])]\n",
      "(array([ 1, -2]), array([1, 1, 0]))\n"
     ]
    }
   ],
   "source": [
    "import numpy as np\n",
    "x = np.array([1, -2])\n",
    "y = np.array([1,1,0])\n",
    "z1 = np.concatenate((x,y))\n",
    "print(z1)\n",
    "\n",
    "z2=[x,y]\n",
    "print(z2)\n",
    "\n",
    "z3=(x,y)\n",
    "print(z3)"
   ]
  },
  {
   "cell_type": "markdown",
   "metadata": {
    "id": "zlyEjnf58u65"
   },
   "source": [
    "Given two or more existing arrays, you can stack them vertically using the `vstack()` function. For example, given two one-dimensional arrays, you can create a new two-dimensional array with two rows by vertically stacking them. This is demonstrated in the example below."
   ]
  },
  {
   "cell_type": "code",
   "execution_count": null,
   "metadata": {
    "colab": {
     "base_uri": "https://localhost:8080/"
    },
    "executionInfo": {
     "elapsed": 10,
     "status": "ok",
     "timestamp": 1642908645223,
     "user": {
      "displayName": "yasin ceran",
      "photoUrl": "https://lh3.googleusercontent.com/a-/AOh14Ghbmysom3cjssqhOTBvkuQb5HbiIfoeVL9OoEBiYA=s64",
      "userId": "13329137419290567799"
     },
     "user_tz": 480
    },
    "id": "sZv_GXLE8u65",
    "outputId": "76f04750-df74-41c9-d7a8-cf0772a4c72c"
   },
   "outputs": [
    {
     "name": "stdout",
     "output_type": "stream",
     "text": [
      "[1 2 3]\n",
      "[4 5 6]\n",
      "[[1 2 3]\n",
      " [4 5 6]]\n",
      "(2, 3)\n"
     ]
    }
   ],
   "source": [
    "# create array with vstack\n",
    "from numpy import array\n",
    "from numpy import vstack\n",
    "# create first array\n",
    "a1 = array([1,2,3])\n",
    "print(a1)\n",
    "# create second array\n",
    "a2 = array([4,5,6])\n",
    "print(a2)\n",
    "# vertical stack\n",
    "a3 = vstack((a1, a2))\n",
    "print(a3)\n",
    "print(a3.shape)"
   ]
  },
  {
   "cell_type": "markdown",
   "metadata": {
    "id": "fYBVaLiW8u66"
   },
   "source": [
    "Given two or more existing arrays, you can stack them horizontally using the `hstack()` function. For example, given two one-dimensional arrays, you can create a new one-dimensional array or one row with the columns of the first and second arrays concatenated. This is demonstrated in the example below."
   ]
  },
  {
   "cell_type": "code",
   "execution_count": null,
   "metadata": {
    "colab": {
     "base_uri": "https://localhost:8080/"
    },
    "executionInfo": {
     "elapsed": 6,
     "status": "ok",
     "timestamp": 1642908645224,
     "user": {
      "displayName": "yasin ceran",
      "photoUrl": "https://lh3.googleusercontent.com/a-/AOh14Ghbmysom3cjssqhOTBvkuQb5HbiIfoeVL9OoEBiYA=s64",
      "userId": "13329137419290567799"
     },
     "user_tz": 480
    },
    "id": "3xzLrGjW8u66",
    "outputId": "b815e6ac-6ffb-4aab-9904-1e9a7fc717f2"
   },
   "outputs": [
    {
     "name": "stdout",
     "output_type": "stream",
     "text": [
      "[1 2 3]\n",
      "[4 5 6]\n",
      "[1 2 3 4 5 6]\n",
      "(6,)\n"
     ]
    }
   ],
   "source": [
    "# create array with hstack\n",
    "from numpy import array\n",
    "from numpy import hstack\n",
    "# create first array\n",
    "a1 = array([1,2,3])\n",
    "print(a1)\n",
    "# create second array\n",
    "a2 = array([4,5,6])\n",
    "print(a2)\n",
    "# create horizontal stack\n",
    "a3 = hstack((a1, a2))\n",
    "print(a3)\n",
    "print(a3.shape)"
   ]
  },
  {
   "cell_type": "code",
   "execution_count": null,
   "metadata": {
    "id": "I3pMNcop8u66"
   },
   "outputs": [],
   "source": []
  },
  {
   "cell_type": "markdown",
   "metadata": {
    "id": "neUgB6Tq8u66"
   },
   "source": [
    "#### Subvectors and Slicing\n",
    "\n",
    "In Python, you can extract a slice of a vector using an index range as the argument. Remember, Python indices start from `0` to `n-1`. For the expressing `x[a:b]` for array `x`, the slicing selects the element from index `a` to index `b-1`. "
   ]
  },
  {
   "cell_type": "markdown",
   "metadata": {
    "id": "itomebid8u66"
   },
   "source": [
    "You can access all data in an array dimension by specifying the slice `:` with no indexes"
   ]
  },
  {
   "cell_type": "code",
   "execution_count": null,
   "metadata": {
    "id": "dkEDSVVV8u67",
    "outputId": "d480a06e-eea6-4816-e60f-9e6b9e677256"
   },
   "outputs": [
    {
     "name": "stdout",
     "output_type": "stream",
     "text": [
      "[11 22 33 44 55]\n"
     ]
    }
   ],
   "source": [
    "# slice a one-dimensional array\n",
    "from numpy import array\n",
    "# define array\n",
    "data = array([11, 22, 33, 44, 55])\n",
    "print(data[:])"
   ]
  },
  {
   "cell_type": "markdown",
   "metadata": {
    "id": "hMQbfvE28u67"
   },
   "source": [
    "The first item of the array can be sliced by specifying a slice that starts at index 0 and ends at index 1 (one item before the to index)."
   ]
  },
  {
   "cell_type": "code",
   "execution_count": 10,
   "metadata": {
    "id": "QBIK9bAs8u67",
    "outputId": "2d31ac0f-0a41-4f75-b9db-0c59ec6c86fd"
   },
   "outputs": [
    {
     "name": "stdout",
     "output_type": "stream",
     "text": [
      "[11]\n",
      "[11 22]\n"
     ]
    }
   ],
   "source": [
    "# slice a subset of a one-dimensional array\n",
    "from numpy import array\n",
    "# define array\n",
    "data = array([11, 22, 33, 44, 55])\n",
    "print(data[0:1])\n",
    "print(data[0:2])"
   ]
  },
  {
   "cell_type": "markdown",
   "metadata": {
    "id": "xukgTy0W8u68"
   },
   "source": [
    "In the code below, `x[1:4]` select element from index `1` to `3`, which means the second to the fourth elements are selected."
   ]
  },
  {
   "cell_type": "code",
   "execution_count": null,
   "metadata": {
    "id": "3oKDlzm28u68",
    "outputId": "2ad34bae-b34a-43d8-906f-94eb177e1def"
   },
   "outputs": [
    {
     "name": "stdout",
     "output_type": "stream",
     "text": [
      "[8 3 2]\n"
     ]
    }
   ],
   "source": [
    "import numpy as np\n",
    "x = np.array([1,8,3,2,1,9,7])\n",
    "y = x[1:4]\n",
    "print(y)"
   ]
  },
  {
   "cell_type": "markdown",
   "metadata": {
    "id": "MeEud-7T8u68"
   },
   "source": [
    "You can also use index ranges to assign a slice of a vector. In the code below, we reassigned index `3` to `5` in array `x`."
   ]
  },
  {
   "cell_type": "code",
   "execution_count": null,
   "metadata": {
    "id": "eSC_VBEr8u68",
    "outputId": "3a75aa19-3b71-4233-ee93-0beba31317f5"
   },
   "outputs": [
    {
     "name": "stdout",
     "output_type": "stream",
     "text": [
      "[  1   8   3 100 200 300   7]\n"
     ]
    }
   ],
   "source": [
    "x[3:6] = [100,200,300]\n",
    "print(x)"
   ]
  },
  {
   "cell_type": "markdown",
   "metadata": {
    "id": "JW4jkzZg8u69"
   },
   "source": [
    "You can also use slicing to select all elements in the array starting from a certain index"
   ]
  },
  {
   "cell_type": "code",
   "execution_count": null,
   "metadata": {
    "id": "4Cyl2qWR8u69",
    "outputId": "db67e0c2-ac7d-42f1-de85-dd02b11be01a"
   },
   "outputs": [
    {
     "data": {
      "text/plain": [
       "array([3, 2, 1, 9, 7])"
      ]
     },
     "execution_count": 21,
     "metadata": {},
     "output_type": "execute_result"
    }
   ],
   "source": [
    "import numpy as np\n",
    "x = np.array([1,8,3,2,1,9,7])\n",
    "x[2:]"
   ]
  },
  {
   "cell_type": "markdown",
   "metadata": {
    "id": "JAeje9b98u69"
   },
   "source": [
    "We can also use negative indexes in slices. For example, we can slice the last two items in the list by starting the slice at -2 (the second last item) and not specifying a to index; that takes the slice to the end of the dimension."
   ]
  },
  {
   "cell_type": "code",
   "execution_count": null,
   "metadata": {
    "id": "18teJWXC8u69",
    "outputId": "e2d96c2b-ba1b-4a45-9188-e9ad9595dab8"
   },
   "outputs": [
    {
     "name": "stdout",
     "output_type": "stream",
     "text": [
      "[44 55]\n"
     ]
    }
   ],
   "source": [
    "# negative slicing of a one-dimensional array\n",
    "from numpy import array\n",
    "# define array\n",
    "data = array([11, 22, 33, 44, 55])\n",
    "print(data[-2:])"
   ]
  },
  {
   "cell_type": "code",
   "execution_count": null,
   "metadata": {
    "id": "jH7deTJc8u6-",
    "outputId": "101b74d0-595b-4ae1-e479-cf4f63532631"
   },
   "outputs": [
    {
     "data": {
      "text/plain": [
       "array([1, 8, 3, 2, 1, 9])"
      ]
     },
     "execution_count": 7,
     "metadata": {},
     "output_type": "execute_result"
    }
   ],
   "source": [
    "import numpy as np\n",
    "x = np.array([1,8,3,2,1,9,7])\n",
    "x[:-1]"
   ]
  },
  {
   "cell_type": "markdown",
   "metadata": {
    "id": "zhqAAWmX8u6-"
   },
   "source": [
    "#### Two Dimensional Slicing"
   ]
  },
  {
   "cell_type": "markdown",
   "metadata": {
    "id": "KCpCe2008u6-"
   },
   "source": [
    "It is more likely in machine learning that you will have two-dimensional data. That is a table of data where each row represents a new observation and each column a new feature."
   ]
  },
  {
   "cell_type": "code",
   "execution_count": 11,
   "metadata": {},
   "outputs": [
    {
     "data": {
      "text/plain": [
       "(1, 3)"
      ]
     },
     "execution_count": 11,
     "metadata": {},
     "output_type": "execute_result"
    }
   ],
   "source": [
    "array23=np.array([[2,3,4]])\n",
    "array23.shape"
   ]
  },
  {
   "cell_type": "code",
   "execution_count": null,
   "metadata": {
    "id": "zO6ZOieF8u6-",
    "outputId": "ccedf69d-3d81-4314-8f02-cf6a9e8b45aa"
   },
   "outputs": [
    {
     "name": "stdout",
     "output_type": "stream",
     "text": [
      "[[11 22]\n",
      " [33 44]\n",
      " [55 66]]\n",
      "<class 'numpy.ndarray'>\n"
     ]
    }
   ],
   "source": [
    "# create two-dimensional array\n",
    "from numpy import array\n",
    "# list of data\n",
    "data = [[11, 22],\n",
    "[33, 44],\n",
    "[55, 66]]\n",
    "# array of data\n",
    "data = array(data)\n",
    "print(data)\n",
    "print(type(data))"
   ]
  },
  {
   "cell_type": "markdown",
   "metadata": {
    "id": "cJ_flbuz8u6-"
   },
   "source": [
    "Indexing two-dimensional data is similar to indexing one-dimensional data, except that a comma\n",
    "is used to separate the index for each dimension."
   ]
  },
  {
   "cell_type": "code",
   "execution_count": 13,
   "metadata": {
    "id": "f2fcXOAp8u6_",
    "outputId": "70d136ff-ba79-4dfc-83ca-4e05f9d7923b"
   },
   "outputs": [
    {
     "name": "stdout",
     "output_type": "stream",
     "text": [
      "[11 22]\n",
      "11\n"
     ]
    }
   ],
   "source": [
    "# index two-dimensional array\n",
    "from numpy import array\n",
    "# define array\n",
    "data = array([\n",
    "[11, 22],\n",
    "[33, 44],\n",
    "[55, 66]])\n",
    "# index data\n",
    "print(data[0])\n",
    "print(data[0,0])"
   ]
  },
  {
   "cell_type": "markdown",
   "metadata": {
    "id": "Fj9qwHM68u6_"
   },
   "source": [
    "If we are interested in all items in the \f",
    "rst row, we could leave the second dimension index\n",
    "empty, for example:"
   ]
  },
  {
   "cell_type": "code",
   "execution_count": null,
   "metadata": {
    "id": "7LOxiSh88u6_",
    "outputId": "a7877f36-31ba-40b1-d6d7-361b6ca80fc8"
   },
   "outputs": [
    {
     "name": "stdout",
     "output_type": "stream",
     "text": [
      "[11 22]\n"
     ]
    }
   ],
   "source": [
    "# index row of two-dimensional array\n",
    "from numpy import array\n",
    "# define array\n",
    "data = array([\n",
    "[11, 22],\n",
    "[33, 44],\n",
    "[55, 66]])\n",
    "# index data\n",
    "print(data[0,])"
   ]
  },
  {
   "cell_type": "code",
   "execution_count": 14,
   "metadata": {},
   "outputs": [
    {
     "data": {
      "text/plain": [
       "array([11, 22])"
      ]
     },
     "execution_count": 14,
     "metadata": {},
     "output_type": "execute_result"
    }
   ],
   "source": [
    "data[0,:]"
   ]
  },
  {
   "cell_type": "code",
   "execution_count": 15,
   "metadata": {},
   "outputs": [
    {
     "data": {
      "text/plain": [
       "array([[11, 22],\n",
       "       [33, 44],\n",
       "       [55, 66]])"
      ]
     },
     "execution_count": 15,
     "metadata": {},
     "output_type": "execute_result"
    }
   ],
   "source": [
    "data[:,:]"
   ]
  },
  {
   "cell_type": "markdown",
   "metadata": {
    "id": "v2AfGTFN8u6_"
   },
   "source": [
    "It is common to split your loaded data into input variables (X) and the output variable (y). We\n",
    "can do this by slicing all rows and all columns up to, but before the last column, then separately\n",
    "indexing the last column. For the input features, we can select all rows and all columns except\n",
    "the last one by specifying `:` for in the rows index, and `:-1` in the columns index."
   ]
  },
  {
   "cell_type": "code",
   "execution_count": null,
   "metadata": {
    "id": "VTKtoMJ38u6_",
    "outputId": "73bd9b25-c0ed-408c-fe0c-3b4020d89df5"
   },
   "outputs": [
    {
     "name": "stdout",
     "output_type": "stream",
     "text": [
      "[[11 22]\n",
      " [44 55]\n",
      " [77 88]]\n",
      "[33 66 99]\n"
     ]
    }
   ],
   "source": [
    "# split input and output data\n",
    "from numpy import array\n",
    "# define array\n",
    "data = array([\n",
    "[11, 22, 33],\n",
    "[44, 55, 66],\n",
    "[77, 88, 99]])\n",
    "# separate data\n",
    "X, y = data[:, :-1], data[:, -1]\n",
    "print(X)\n",
    "print(y)"
   ]
  },
  {
   "cell_type": "markdown",
   "metadata": {
    "id": "fgQSy0wS8u7A"
   },
   "source": [
    "It is common to split a loaded dataset into separate train and test sets. This is a splitting of\n",
    "rows where some portion will be used to train the model and the remaining portion will be used\n",
    "to estimate the skill of the trained model. This would involve slicing all columns by specifying `:`\n",
    "in the second dimension index. The training dataset would be all rows from the beginning to\n",
    "the split point."
   ]
  },
  {
   "cell_type": "code",
   "execution_count": null,
   "metadata": {
    "id": "sA0lBxbC8u7A",
    "outputId": "fb31bd7e-3526-4f37-ce40-9f3fd3733d40"
   },
   "outputs": [
    {
     "name": "stdout",
     "output_type": "stream",
     "text": [
      "[[11 22 33]\n",
      " [44 55 66]]\n",
      "[[77 88 99]]\n"
     ]
    }
   ],
   "source": [
    "# split train and test data\n",
    "from numpy import array\n",
    "# define array\n",
    "data = array([\n",
    "[11, 22, 33],\n",
    "[44, 55, 66],\n",
    "[77, 88, 99]])\n",
    "# separate data\n",
    "split = 2\n",
    "train,test = data[:split,:],data[split:,:]\n",
    "print(train)\n",
    "print(test)"
   ]
  },
  {
   "cell_type": "code",
   "execution_count": 16,
   "metadata": {
    "scrolled": true
   },
   "outputs": [
    {
     "data": {
      "text/plain": [
       "array([[22],\n",
       "       [44],\n",
       "       [66]])"
      ]
     },
     "execution_count": 16,
     "metadata": {},
     "output_type": "execute_result"
    }
   ],
   "source": [
    "data[:,1:]"
   ]
  },
  {
   "cell_type": "code",
   "execution_count": 18,
   "metadata": {},
   "outputs": [
    {
     "data": {
      "text/plain": [
       "array([[11, 22],\n",
       "       [33, 44]])"
      ]
     },
     "execution_count": 18,
     "metadata": {},
     "output_type": "execute_result"
    }
   ],
   "source": [
    "data[:2,-2:]"
   ]
  },
  {
   "cell_type": "code",
   "execution_count": 20,
   "metadata": {},
   "outputs": [
    {
     "data": {
      "text/plain": [
       "(array([[11, 22],\n",
       "        [33, 44]]),\n",
       " array([[55, 66]]))"
      ]
     },
     "execution_count": 20,
     "metadata": {},
     "output_type": "execute_result"
    }
   ],
   "source": [
    "data[0:2,:],data[-1:]"
   ]
  },
  {
   "cell_type": "code",
   "execution_count": null,
   "metadata": {},
   "outputs": [],
   "source": [
    "from scikitlearn.model_selection import train_test_split\n",
    "X_train, X_test,y_train,y_test=train_test_split(X,y)\n",
    "for any dataset except time series"
   ]
  },
  {
   "cell_type": "markdown",
   "metadata": {
    "id": "B2TVTyW88u7A"
   },
   "source": [
    "#### Array Reshaping\n",
    "After slicing your data, you may need to reshape it. For example, some libraries, such as\n",
    "scikit-learn, may require that a one-dimensional array of output variables `(y)` be shaped as a\n",
    "two-dimensional array with one column and outcomes for each column. Some algorithms, like\n",
    "the Long Short-Term Memory recurrent neural network in Keras, require input to be specified\n",
    "as a three-dimensional array comprised of samples, timesteps, and features. It is important to\n",
    "know how to reshape your `NumPy` arrays so that your data meets the expectation of specific\n",
    "Python libraries."
   ]
  },
  {
   "cell_type": "markdown",
   "metadata": {
    "id": "Bmz1ifH58u7A"
   },
   "source": [
    "NumPy arrays have a shape attribute that returns a tuple of the length of each dimension of\n",
    "the array."
   ]
  },
  {
   "cell_type": "code",
   "execution_count": null,
   "metadata": {},
   "outputs": [],
   "source": [
    "lr=LinearRegressin()\n",
    "lr.fit(x,y)\n",
    "lr.predict(data_new)"
   ]
  },
  {
   "cell_type": "code",
   "execution_count": 22,
   "metadata": {},
   "outputs": [
    {
     "data": {
      "text/plain": [
       "(1, 3)"
      ]
     },
     "execution_count": 22,
     "metadata": {},
     "output_type": "execute_result"
    }
   ],
   "source": [
    "data_new=np.array([40,20,0])\n",
    "data_new.shape\n",
    "data_new=np.array([[40,20,0]])\n",
    "data_new.shape"
   ]
  },
  {
   "cell_type": "code",
   "execution_count": null,
   "metadata": {
    "id": "8TyT73kw8u7A",
    "outputId": "84f3a283-4205-44af-e890-69fbe0fb1f92"
   },
   "outputs": [
    {
     "name": "stdout",
     "output_type": "stream",
     "text": [
      "(5,)\n"
     ]
    }
   ],
   "source": [
    "# shape of one-dimensional array\n",
    "from numpy import array\n",
    "# define array\n",
    "data = array([11, 22, 33, 44, 55])\n",
    "print(data.shape)"
   ]
  },
  {
   "cell_type": "code",
   "execution_count": null,
   "metadata": {
    "id": "ukHtZ4EG8u7B",
    "outputId": "e4d1046e-69a3-44ba-d400-c13e2f829336"
   },
   "outputs": [
    {
     "name": "stdout",
     "output_type": "stream",
     "text": [
      "(3, 2)\n"
     ]
    }
   ],
   "source": [
    "# shape of a two-dimensional array\n",
    "from numpy import array\n",
    "# list of data\n",
    "data = [[11, 22],\n",
    "[33, 44],\n",
    "[55, 66]]\n",
    "# array of data\n",
    "data = array(data)\n",
    "print(data.shape)"
   ]
  },
  {
   "cell_type": "markdown",
   "metadata": {
    "id": "gYp5_t-A8u7B"
   },
   "source": [
    "You can use the size of your array dimensions in the shape dimension, such as specifying\n",
    "parameters. The elements of the tuple can be accessed just like an array, with the 0th index for\n",
    "the number of rows and the 1st index for the number of columns."
   ]
  },
  {
   "cell_type": "code",
   "execution_count": null,
   "metadata": {
    "id": "Vyh0jibb8u7B",
    "outputId": "85dd773f-67f2-452b-f3bb-74e07dbdffe4"
   },
   "outputs": [
    {
     "name": "stdout",
     "output_type": "stream",
     "text": [
      "Rows: 3\n",
      "Cols: 2\n"
     ]
    }
   ],
   "source": [
    "# row and column shape of two-dimensional array\n",
    "from numpy import array\n",
    "# list of data\n",
    "data = [[11, 22],\n",
    "        [33, 44],\n",
    "        [55, 66]]\n",
    "# array of data\n",
    "data = array(data)\n",
    "print('Rows: %d' % data.shape[0])\n",
    "print('Cols: %d' % data.shape[1])"
   ]
  },
  {
   "cell_type": "markdown",
   "metadata": {
    "id": "EcU1HyYT8u7C"
   },
   "source": [
    "It is common to need to reshape a one-dimensional array into a two-dimensional array with\n",
    "one column and multiple rows. NumPy provides the `reshape()` function on the NumPy array\n",
    "object that can be used to reshape the data."
   ]
  },
  {
   "cell_type": "code",
   "execution_count": null,
   "metadata": {
    "id": "tYx63T-C8u7C",
    "outputId": "1fdaf576-dd75-47c5-ce5a-270f37ef9968"
   },
   "outputs": [
    {
     "name": "stdout",
     "output_type": "stream",
     "text": [
      "(5,)\n",
      "(5, 1)\n"
     ]
    }
   ],
   "source": [
    "# reshape 1D array to 2D\n",
    "from numpy import array\n",
    "# define array\n",
    "data = array([11, 22, 33, 44, 55])\n",
    "print(data.shape)\n",
    "# reshape\n",
    "data = data.reshape((data.shape[0], 1))\n",
    "print(data.shape)"
   ]
  },
  {
   "cell_type": "code",
   "execution_count": null,
   "metadata": {},
   "outputs": [],
   "source": []
  },
  {
   "cell_type": "markdown",
   "metadata": {
    "id": "R_ibgYWk8u7C"
   },
   "source": [
    "#### Python Indexing into Arrays\n",
    "Python slicing and subvectoring is much more general than the mathematical notation. For example, one can use a number range with a third argument, that gives the increment between successive indexes. For example, the index range `1:5:2` is the list of numbers `8, 2`. The expression `x[1:4:2]`\n",
    "extracts the second (index 1) to the fifth (index 4) element with an increment of 2. Therefore, the second and fourth entries of `x` are extracted. You can also use an index range that runs backward. The Python expression `x[::-1]` gives the reversed vector, i.e., the vector with the same coefficients but in opposite order."
   ]
  },
  {
   "cell_type": "code",
   "execution_count": null,
   "metadata": {
    "id": "aImhnR8q8u7C",
    "outputId": "8642d1d4-8349-4233-c516-db7d5a7642fc"
   },
   "outputs": [
    {
     "name": "stdout",
     "output_type": "stream",
     "text": [
      "[8 2]\n",
      "[8 2]\n",
      "[7 9 1 2 3 8 1]\n"
     ]
    }
   ],
   "source": [
    "import numpy as np\n",
    "x = np.array([1,8,3,2,1,9,7])\n",
    "print(x[1:5:2])\n",
    "print(x[1:4:2])\n",
    "print(x[::-1])"
   ]
  },
  {
   "cell_type": "code",
   "execution_count": null,
   "metadata": {
    "id": "N3ZR-dWx8u7D",
    "outputId": "380a383a-6adc-415e-c856-28037806fde0"
   },
   "outputs": [
    {
     "data": {
      "text/plain": [
       "array([8, 3, 2, 1])"
      ]
     },
     "execution_count": 3,
     "metadata": {},
     "output_type": "execute_result"
    }
   ],
   "source": [
    "x[1:5]"
   ]
  },
  {
   "cell_type": "markdown",
   "metadata": {
    "id": "dqvRbRm18u7D"
   },
   "source": [
    "#### Vector of First Differences\n",
    "Here we use slicing to create an $(n-1)$ vector $d$ which is defined as the first difference vector $d_i=x_{i+1}-x_i$ for $i=1,\\ldots,n-1$ where $x$ is an $n$-vector."
   ]
  },
  {
   "cell_type": "code",
   "execution_count": 26,
   "metadata": {
    "id": "4cjMMWIn8u7D",
    "outputId": "4f11931e-6f42-4826-c0d8-2d63aed082c9"
   },
   "outputs": [
    {
     "name": "stdout",
     "output_type": "stream",
     "text": [
      "[8 3 2 1 9 7]\n",
      "[1 8 3 2 1 9]\n",
      "[ 7 -5 -1 -1  8 -2]\n"
     ]
    }
   ],
   "source": [
    "import numpy as np\n",
    "x = np.array([1,8,3,2,1,9,7])\n",
    "d = x[1:] - x[:-1]\n",
    "print(x[1:])\n",
    "print(x[:-1])\n",
    "print(d)"
   ]
  },
  {
   "cell_type": "markdown",
   "metadata": {
    "id": "62HCkHnH8u7D"
   },
   "source": [
    "#### Lists of Vectors\n",
    "There are several ways to represent lists of vectors in Python. If we give the elements of the list, separated by commas, and surrounded by square brackets, we form a one-dimensional arrays of vectors or a list of lists. If instead, we use parentheses as delimiters, we obtain a tuple."
   ]
  },
  {
   "cell_type": "code",
   "execution_count": null,
   "metadata": {
    "id": "Cn8alny28u7D",
    "outputId": "70c5cdcf-4388-44b3-d6b2-f07dfad64c63"
   },
   "outputs": [
    {
     "data": {
      "text/plain": [
       "[1, -1]"
      ]
     },
     "execution_count": 25,
     "metadata": {},
     "output_type": "execute_result"
    }
   ],
   "source": [
    "x = [1,0]\n",
    "y = [1,-1]\n",
    "z = [0,1]\n",
    "list_of_vectors = [x,y,z]\n",
    "list_of_vectors[1] #Second element of list"
   ]
  },
  {
   "cell_type": "code",
   "execution_count": null,
   "metadata": {
    "id": "XrilyYB28u7D",
    "outputId": "c000a7b1-c287-445a-d284-07e195b4a4c6"
   },
   "outputs": [
    {
     "data": {
      "text/plain": [
       "1"
      ]
     },
     "execution_count": 26,
     "metadata": {},
     "output_type": "execute_result"
    }
   ],
   "source": [
    "list_of_vectors[1][0] #First entry in second element of list"
   ]
  },
  {
   "cell_type": "code",
   "execution_count": null,
   "metadata": {
    "id": "00swyeKJ8u7E",
    "outputId": "88fbf57e-4a20-4801-f120-ffb783084e01"
   },
   "outputs": [
    {
     "data": {
      "text/plain": [
       "[1, -1]"
      ]
     },
     "execution_count": 27,
     "metadata": {},
     "output_type": "execute_result"
    }
   ],
   "source": [
    "tuple_of_vectors = (x,y,z)\n",
    "tuple_of_vectors[1] #Second element of list"
   ]
  },
  {
   "cell_type": "code",
   "execution_count": null,
   "metadata": {
    "id": "X8q0HFsn8u7E",
    "outputId": "2ebf1f89-63c5-4619-8873-b0fe0c4f07fb"
   },
   "outputs": [
    {
     "data": {
      "text/plain": [
       "1"
      ]
     },
     "execution_count": 28,
     "metadata": {},
     "output_type": "execute_result"
    }
   ],
   "source": [
    "tuple_of_vectors[1][0] #First entry in second element of list"
   ]
  },
  {
   "cell_type": "markdown",
   "metadata": {
    "id": "LU0iSV4E8u7E"
   },
   "source": [
    "#### Zero Vectors\n",
    "We can create a zero vector of size `n` using `np.zeros(n)`. The expression `np.zeros(len(x))` creates a zero vector with the same dimension as vector `x`."
   ]
  },
  {
   "cell_type": "code",
   "execution_count": null,
   "metadata": {
    "id": "etwdyG-y8u7E",
    "outputId": "71d36264-6297-4af7-89ec-9c97165f4f7f"
   },
   "outputs": [
    {
     "data": {
      "text/plain": [
       "array([0., 0., 0.])"
      ]
     },
     "execution_count": 29,
     "metadata": {},
     "output_type": "execute_result"
    }
   ],
   "source": [
    "import numpy as np\n",
    "np.zeros(3)"
   ]
  },
  {
   "cell_type": "code",
   "execution_count": 27,
   "metadata": {},
   "outputs": [
    {
     "data": {
      "text/plain": [
       "array([[0., 0., 0., 0.],\n",
       "       [0., 0., 0., 0.],\n",
       "       [0., 0., 0., 0.]])"
      ]
     },
     "execution_count": 27,
     "metadata": {},
     "output_type": "execute_result"
    }
   ],
   "source": [
    "np.zeros((3,4))"
   ]
  },
  {
   "cell_type": "markdown",
   "metadata": {
    "id": "4sR_H_D58u7E"
   },
   "source": [
    "#### Unit Vectors\n",
    "We can cretate $e_i$, the $i^{th}$ unit vector of length $n$ using index.  "
   ]
  },
  {
   "cell_type": "code",
   "execution_count": null,
   "metadata": {
    "id": "LNC4Jzlw8u7F",
    "outputId": "94a264f2-51d6-4e15-b42a-e9126d6e3f3a"
   },
   "outputs": [
    {
     "name": "stdout",
     "output_type": "stream",
     "text": [
      "[0. 0. 1. 0.]\n"
     ]
    }
   ],
   "source": [
    "import numpy as np\n",
    "i = 2\n",
    "n = 4\n",
    "x = np.zeros(n)\n",
    "x[i] = 1\n",
    "print(x)"
   ]
  },
  {
   "cell_type": "markdown",
   "metadata": {
    "id": "EGOvwq1I8u7F"
   },
   "source": [
    "#### Ones Vector\n",
    "We can create a ones vector of size `n` using `np.ones(n)`. The expression `np.ones(len(x))` creates a ones vector with the same dimension as vector `x`."
   ]
  },
  {
   "cell_type": "code",
   "execution_count": null,
   "metadata": {
    "id": "OIgMrIui8u7F",
    "outputId": "b5faa253-e141-467b-9bba-5afaae5aae03"
   },
   "outputs": [
    {
     "data": {
      "text/plain": [
       "array([1., 1., 1.])"
      ]
     },
     "execution_count": 31,
     "metadata": {},
     "output_type": "execute_result"
    }
   ],
   "source": [
    "import numpy as np\n",
    "np.ones(3)"
   ]
  },
  {
   "cell_type": "markdown",
   "metadata": {
    "id": "7u6XMxPs8u7F"
   },
   "source": [
    "#### Random Vectors\n",
    "Sometimes it is useful to generate random vectors to check our algorithm or test an identity. In Python, we generate a random vector of size `n` using `np.random.random(n)`."
   ]
  },
  {
   "cell_type": "code",
   "execution_count": 29,
   "metadata": {
    "id": "gnPyItOQ8u7F",
    "outputId": "1a812be0-757e-4fff-9f12-88cea71c3152",
    "scrolled": true
   },
   "outputs": [
    {
     "data": {
      "text/plain": [
       "array([0.42183156, 0.09041816])"
      ]
     },
     "execution_count": 29,
     "metadata": {},
     "output_type": "execute_result"
    }
   ],
   "source": [
    "np.random.random(2) #Return random floats in the half-open interval [0.0, 1.0)"
   ]
  },
  {
   "cell_type": "code",
   "execution_count": 34,
   "metadata": {},
   "outputs": [
    {
     "data": {
      "text/plain": [
       "0.5017"
      ]
     },
     "execution_count": 34,
     "metadata": {},
     "output_type": "execute_result"
    }
   ],
   "source": [
    "Flips=np.random.random(10000)>0.5\n",
    "Flips.mean()"
   ]
  },
  {
   "cell_type": "markdown",
   "metadata": {
    "id": "3CR4h8Qd8u7F"
   },
   "source": [
    "## Vector Addition\n",
    "So far, we've worked with one vector at a time. What happens when you need to add two vectors.\n",
    "\n",
    "If `x` and `y` are numpy arrays of the same size, `x+y` and `x-y` give their sum and difference, respectively.\n"
   ]
  },
  {
   "cell_type": "code",
   "execution_count": null,
   "metadata": {
    "id": "MpA4Xc538u7F",
    "outputId": "f5db1773-dbaa-4cde-f4d8-c4708ddf548f"
   },
   "outputs": [
    {
     "name": "stdout",
     "output_type": "stream",
     "text": [
      "Sum of arrays: [101 202 303]\n",
      "Difference of arrays: [ -99 -198 -297]\n"
     ]
    }
   ],
   "source": [
    "import numpy as np\n",
    "x = np.array([1,2,3])\n",
    "y = np.array([100,200,300])\n",
    "print('Sum of arrays:', x+y)\n",
    "print('Difference of arrays:', x-y)"
   ]
  },
  {
   "cell_type": "markdown",
   "metadata": {
    "id": "fiqB4Mw38u7G"
   },
   "source": [
    "Let's take a look at an example, we already have a vector named **v**, as defined here:\n",
    "\\begin{equation}\\vec{v} = \\begin{bmatrix}2 \\\\ 1 \\end{bmatrix}\\end{equation}\n",
    "Now let's create a second vector, and called **s** like this:\n",
    "\\begin{equation}\\vec{s} = \\begin{bmatrix}-3 \\\\ 2 \\end{bmatrix}\\end{equation}\n",
    "\n",
    "Run the cell below to create **s** and plot it together with **v**:"
   ]
  },
  {
   "cell_type": "code",
   "execution_count": null,
   "metadata": {
    "id": "8Tf7cdZ88u7G",
    "outputId": "01996acf-49e0-4729-8ce0-981dfff61690"
   },
   "outputs": [
    {
     "name": "stdout",
     "output_type": "stream",
     "text": [
      "[-3  2]\n"
     ]
    },
    {
     "data": {
      "image/png": "[encoded data removed]",
      "text/plain": [
       "<Figure size 432x288 with 1 Axes>"
      ]
     },
     "metadata": {
      "needs_background": "light"
     },
     "output_type": "display_data"
    }
   ],
   "source": [
    "import math\n",
    "import numpy as np\n",
    "import matplotlib.pyplot as plt\n",
    "%matplotlib inline\n",
    "\n",
    "v = np.array([2,1])\n",
    "s = np.array([-3,2])\n",
    "print (s)\n",
    "\n",
    "# Plot v and s\n",
    "vecs = np.array([v,s])\n",
    "origin = [0], [0]\n",
    "plt.axis('equal')\n",
    "plt.grid()\n",
    "plt.ticklabel_format(style='sci', axis='both', scilimits=(0,0))\n",
    "plt.quiver(*origin, vecs[0,0], vecs[0,1], color=['r',], scale=10)\n",
    "plt.quiver(*origin, vecs[1,0], vecs[1,1], color=[ 'b'], scale=10)\n",
    "plt.show()"
   ]
  },
  {
   "cell_type": "code",
   "execution_count": null,
   "metadata": {
    "id": "ll8Ks55C8u7G",
    "outputId": "3b6f6568-fa3a-4410-93a8-806d25b1f655"
   },
   "outputs": [
    {
     "data": {
      "text/plain": [
       "array([[ 2,  1],\n",
       "       [-3,  2]])"
      ]
     },
     "execution_count": 67,
     "metadata": {},
     "output_type": "execute_result"
    }
   ],
   "source": [
    "vecs"
   ]
  },
  {
   "cell_type": "code",
   "execution_count": null,
   "metadata": {
    "id": "1Xuj3fD78u7G",
    "outputId": "339c3533-31d5-433e-8ae6-8ef1885469d9"
   },
   "outputs": [
    {
     "data": {
      "text/plain": [
       "1"
      ]
     },
     "execution_count": 74,
     "metadata": {},
     "output_type": "execute_result"
    }
   ],
   "source": [
    "vecs[0,1]"
   ]
  },
  {
   "cell_type": "code",
   "execution_count": null,
   "metadata": {
    "id": "aDQVAxZr8u7G",
    "outputId": "df13d1c2-9a52-41a1-cf16-4034e6eb5f12"
   },
   "outputs": [
    {
     "data": {
      "text/plain": [
       "array([ 2, -3])"
      ]
     },
     "execution_count": 69,
     "metadata": {},
     "output_type": "execute_result"
    }
   ],
   "source": [
    "vecs[:,0]"
   ]
  },
  {
   "cell_type": "markdown",
   "metadata": {
    "id": "38jqk5kg8u7H"
   },
   "source": [
    "You can see in the plot that the two vectors have different directions and magnitudes. So what happens when we add them together?\n",
    "\n",
    "Here's the formula:\n",
    "\\begin{equation}\\vec{z} = \\vec{v}+\\vec{s}\\end{equation}\n",
    "\n",
    "In terms of our vector matrices, this looks like this:\n",
    "\\begin{equation}\\vec{z} = \\begin{bmatrix}2 \\\\ 1 \\end{bmatrix} + \\begin{bmatrix}-3 \\\\ 2 \\end{bmatrix}\\end{equation}\n",
    "\n",
    "Which gives the following result:\n",
    "\\begin{equation}\\vec{z} = \\begin{bmatrix}2 \\\\ 1 \\end{bmatrix} + \\begin{bmatrix}-3 \\\\ 2 \\end{bmatrix} = \\begin{bmatrix}-1 \\\\ 3 \\end{bmatrix}\\end{equation}\n",
    "\n",
    "Let's verify that Python gives the same result:"
   ]
  },
  {
   "cell_type": "code",
   "execution_count": null,
   "metadata": {
    "id": "KaMpy4KX8u7H",
    "outputId": "ce43918c-651b-4504-d33d-d0a97536e5ca"
   },
   "outputs": [
    {
     "name": "stdout",
     "output_type": "stream",
     "text": [
      "[-1  3]\n"
     ]
    }
   ],
   "source": [
    "z = v + s\n",
    "print(z)"
   ]
  },
  {
   "cell_type": "markdown",
   "metadata": {
    "id": "fXdMAn-X8u7H"
   },
   "source": []
  },
  {
   "cell_type": "markdown",
   "metadata": {
    "id": "nGVUn8Xu8u7H"
   },
   "source": [
    "So what's going on here?\n",
    "Well, we added the dimensions of **s** to the dimensions of **v** to describe a new vector **z**. Let's break that down:\n",
    "- The dimensions of **v** are (2,1), so from our starting point we move 2 units in the *x* dimension (across to the right) and 1 unit in the *y* dimension (up). In the plot, if you start at the (0,0) position, this is shown as the red arrow.\n",
    "- Then we're adding **s**, which has dimension values (-3, 2), so we move -3 units in the *x* dimension (across to the left, because it's a negative number) and then 2 units in the *y* dimension (up). On the plot, if you start at the head of the red arrow and make these moves, you'll end up at the head of the green arrow, which represents **z**.\n",
    "\n",
    "The same is true if you perform the addition operation the other way around and add **v** to **s**, the steps to create **s** are described by the blue arrow, and if you use that as the starting point for **v**, you'll end up at the head of the green arrow, which represents **z**.\n",
    "\n",
    "Note on the plot that if you simply moved the tail of the blue arrow so that it started at the head of red arrow, its head would end up in the same place as the head of the green arrow; and the same would be true if you moved tail of the red arrow to the head of the blue arrow."
   ]
  },
  {
   "cell_type": "markdown",
   "metadata": {
    "id": "mOyTRy4l8u7H"
   },
   "source": [
    "# Vector Multiplication\n",
    "\n",
    "- Scalar Multiplication\n",
    "- Vector Multiplication\n",
    "- Inner (Dot Product) Multiplication\n",
    "\n",
    "\n",
    "#### Scalar Multiplication\n",
    "Let's start with *scalar* multiplication - in other words, multiplying a vector by a single numeric value. If **a** is a number and **x** is a numpy array (vector), you can express the scalar-vector product either as **a*x** or **x*a**."
   ]
  },
  {
   "cell_type": "code",
   "execution_count": null,
   "metadata": {
    "id": "y8vhmLJX8u7H",
    "outputId": "c616dd18-27b6-40a0-d7d4-5b923dd8e205"
   },
   "outputs": [
    {
     "name": "stdout",
     "output_type": "stream",
     "text": [
      "[2.2 4.4 6.6]\n"
     ]
    }
   ],
   "source": [
    "import numpy as np\n",
    "x = np.array([1,2,3])\n",
    "print(2.2*x)"
   ]
  },
  {
   "cell_type": "markdown",
   "metadata": {
    "id": "_42p-IDq8u7I"
   },
   "source": [
    "Suppose I want to multiply my vector by 2, which I could write like this:\n",
    "\n",
    "\\begin{equation} \\vec{w} = 2\\vec{v}\\end{equation}\n",
    "\n",
    "Note that the result of this calculation is a new vector named **w**. So how would we calculate this?\n",
    "Recall that **v** is defined like this:\n",
    "\n",
    "\\begin{equation}\\vec{v} = \\begin{bmatrix}2 \\\\ 1 \\end{bmatrix}\\end{equation}\n",
    "\n",
    "To calculate 2v, we simply need to apply the operation to each dimension value in the vector matrix, like this:\n",
    "\n",
    "\\begin{equation}\\vec{w} = \\begin{bmatrix}2 \\cdot 2 \\\\  2 \\cdot 1 \\end{bmatrix}\\end{equation}\n",
    "\n",
    "Which gives us the following result:\n",
    "\n",
    "\\begin{equation}\\vec{w} = \\begin{bmatrix}2 \\cdot 2 \\\\  2 \\cdot 1 \\end{bmatrix} = \\begin{bmatrix}4 \\\\ 2 \\end{bmatrix}\\end{equation}\n",
    "In Python, you can apply these sort of matrix operations directly to numpy arrays, so we can simply calculate **w** like this:"
   ]
  },
  {
   "cell_type": "code",
   "execution_count": null,
   "metadata": {
    "id": "AWAGwKga8u7I",
    "outputId": "24d67b94-3654-48cf-a17a-167719d848a8"
   },
   "outputs": [
    {
     "name": "stdout",
     "output_type": "stream",
     "text": [
      "[4 2]\n"
     ]
    },
    {
     "data": {
      "image/png": "[encoded data removed]",
      "text/plain": [
       "<Figure size 432x288 with 1 Axes>"
      ]
     },
     "metadata": {
      "needs_background": "light"
     },
     "output_type": "display_data"
    }
   ],
   "source": [
    "%matplotlib inline\n",
    "\n",
    "import numpy as np\n",
    "import matplotlib.pyplot as plt\n",
    "import math\n",
    "\n",
    "v = np.array([2,1])\n",
    "\n",
    "w = 2 * v\n",
    "print(w)\n",
    "\n",
    "# Plot w\n",
    "origin = [0], [0]\n",
    "plt.grid()\n",
    "plt.ticklabel_format(style='sci', axis='both', scilimits=(0,0))\n",
    "plt.quiver(*origin, *w, scale=10)\n",
    "plt.show()"
   ]
  },
  {
   "cell_type": "markdown",
   "metadata": {
    "id": "oxiBh0qc8u7I"
   },
   "source": [
    "The same approach is taken for scalar division.\n",
    "\n",
    "Try it for yourself - use the cell below to calculate a new vector named **b** based on the following definition:\n",
    "\n",
    "\\begin{equation}\\vec{b} = \\frac{\\vec{v}}{2}\\end{equation}"
   ]
  },
  {
   "cell_type": "code",
   "execution_count": null,
   "metadata": {
    "id": "6liteuze8u7I",
    "outputId": "145ca4dd-c033-4320-d6da-3f08d2bac91c"
   },
   "outputs": [
    {
     "name": "stdout",
     "output_type": "stream",
     "text": [
      "[1.  0.5]\n"
     ]
    },
    {
     "data": {
      "image/png": "[encoded data removed]",
      "text/plain": [
       "<Figure size 432x288 with 1 Axes>"
      ]
     },
     "metadata": {
      "needs_background": "light"
     },
     "output_type": "display_data"
    }
   ],
   "source": [
    "b = v / 2\n",
    "print(b)\n",
    "\n",
    "# Plot b\n",
    "origin = [0], [0]\n",
    "plt.axis('equal')\n",
    "plt.grid()\n",
    "plt.ticklabel_format(style='sci', axis='both', scilimits=(0,0))\n",
    "plt.quiver(*origin, *b, scale=10)\n",
    "plt.show()"
   ]
  },
  {
   "cell_type": "markdown",
   "metadata": {
    "id": "iO3OCvZM8u7J"
   },
   "source": [
    "#### Vector Multiplication\n",
    "Two vectors of equal length can be multiplied together.\n",
    "$$c=a\\times b$$\n",
    "\n",
    "As with addition and subtraction, this operation is performed element-wise to result in a new vector of the same length:\n",
    "\n",
    "$$c=(a_1\\times b_1, a_2\\times b_2, a_3\\times b_3)$$\n",
    "\n",
    "Or, we may say\n",
    "\n",
    "\\begin{align*} \n",
    "c[0]&=a[0]\\times b[0] \\\\ \n",
    "c[1]&=a[1]\\times b[1]\\\\\n",
    "c[2]&=a[2]\\times b[2]\n",
    "\\end{align*}"
   ]
  },
  {
   "cell_type": "code",
   "execution_count": null,
   "metadata": {
    "id": "zGuyJzPZ8u7J",
    "outputId": "01d2818d-0806-40ff-f7c3-43d96253d950"
   },
   "outputs": [
    {
     "name": "stdout",
     "output_type": "stream",
     "text": [
      "[1 2 3]\n",
      "[1 2 3]\n",
      "[1 4 9]\n"
     ]
    }
   ],
   "source": [
    "# vector multiplication\n",
    "from numpy import array\n",
    "# define first vector\n",
    "a = array([1, 2, 3])\n",
    "print(a)\n",
    "# define second vector\n",
    "b = array([1, 2, 3])\n",
    "print(b)\n",
    "# multiply vectors\n",
    "c = a * b\n",
    "print(c)"
   ]
  },
  {
   "cell_type": "code",
   "execution_count": 35,
   "metadata": {},
   "outputs": [
    {
     "name": "stdout",
     "output_type": "stream",
     "text": [
      "[1 2 3]\n",
      "[ 4  5 -1]\n",
      "[ 4 10 -3]\n"
     ]
    }
   ],
   "source": [
    "# vector multiplication\n",
    "from numpy import array\n",
    "# define first vector\n",
    "a = array([1, 2, 3])\n",
    "print(a)\n",
    "# define second vector\n",
    "b = array([4, 5, -1])\n",
    "print(b)\n",
    "# multiply vectors\n",
    "c = a * b\n",
    "print(c)"
   ]
  },
  {
   "cell_type": "markdown",
   "metadata": {
    "id": "8BGSQj0t8u7J"
   },
   "source": [
    "#### Inner Product\n",
    "So we've seen how to multiply a vector by a scalar. How about multiplying two vectors together? There are actually two ways to do this depending on whether you want the result to be a *scalar product* (in other words, a number) or a *vector product* (a vector).\n",
    "\n",
    "To get a scalar product, we calculate the *dot product*. This takes a similar approach to multiplying a vector by a scalar, except that it multiplies each component pair of the vectors and sums the results. To indicate that we are performing a dot product operation, we use the &bull; operator:\n",
    "\n",
    "\\begin{equation} \\vec{v} \\cdot \\vec{s} = (v_{1} \\cdot s_{1}) + (v_{2} \\cdot s_{2}) ... + \\; (v_{n} \\cdot s_{n})\\end{equation}\n",
    "\n",
    "So for our vectors **v** (2,1) and **s** (-3,2), our calculation looks like this:\n",
    "\n",
    "\\begin{equation} \\vec{v} \\cdot \\vec{s} = (2 \\cdot -3) + (1 \\cdot 2) = -6 + 2 = -4\\end{equation}\n",
    "\n",
    "So the dot product, or scalar product, of **v** &bull; **s** is **-4**.\n",
    "\n",
    "In Python, you can use the ***numpy.dot*** or ***numpy.inner*** function to calculate the dot product of two vector arrays:"
   ]
  },
  {
   "cell_type": "code",
   "execution_count": null,
   "metadata": {
    "id": "tVumh_gx8u7J",
    "outputId": "37fc054c-d53d-4a04-c784-cf0acf7d9205"
   },
   "outputs": [
    {
     "name": "stdout",
     "output_type": "stream",
     "text": [
      "-4\n"
     ]
    }
   ],
   "source": [
    "import numpy as np\n",
    "\n",
    "v = np.array([2,1])\n",
    "s = np.array([-3,2])\n",
    "d = np.dot(v,s)\n",
    "print (d)"
   ]
  },
  {
   "cell_type": "code",
   "execution_count": null,
   "metadata": {
    "id": "j1KF9jyR8u7J",
    "outputId": "9164ce7e-62b8-40bf-d968-9bb6328e811a"
   },
   "outputs": [
    {
     "name": "stdout",
     "output_type": "stream",
     "text": [
      "-4\n"
     ]
    }
   ],
   "source": [
    "import numpy as np\n",
    "\n",
    "v = np.array([2,1])\n",
    "s = np.array([-3,2])\n",
    "d = np.inner(v,s)\n",
    "print (d)"
   ]
  },
  {
   "cell_type": "markdown",
   "metadata": {
    "id": "Ha7pGkk-8u7K"
   },
   "source": [
    "In Python 3.5 and later, you can also use the **@** operator to calculate the dot product:"
   ]
  },
  {
   "cell_type": "code",
   "execution_count": null,
   "metadata": {
    "id": "Rut6mMVf8u7K",
    "outputId": "7efbfb9a-63d6-4ba9-ad7d-58c95a563f5c"
   },
   "outputs": [
    {
     "name": "stdout",
     "output_type": "stream",
     "text": [
      "-4\n"
     ]
    }
   ],
   "source": [
    "import numpy as np\n",
    "\n",
    "v = np.array([2,1])\n",
    "s = np.array([-3,2])\n",
    "d = v @ s\n",
    "print (d)"
   ]
  },
  {
   "cell_type": "markdown",
   "metadata": {
    "id": "pOqUBF268u7K"
   },
   "source": [
    "#### Elementwise Operation\n",
    "In Python we can perform elementwise operations on numpy arrays. For numpy arrays of the same length `x` and `y`, the expressions `x * y`, `x / y` and `x ** y` give the resulting vectors of the same length as `x` and `y` and $i^{th}$ element $x_iy_i$, $x_i/y_i$, and $x_i^{y_i}$, respectively."
   ]
  },
  {
   "cell_type": "code",
   "execution_count": null,
   "metadata": {
    "id": "ncbw6Q6q8u7K",
    "outputId": "2ebf5e08-5679-45fe-a43f-33722111c70f"
   },
   "outputs": [
    {
     "data": {
      "text/plain": [
       "array([ 0.04063205, -0.0223914 , -0.06411837])"
      ]
     },
     "execution_count": 4,
     "metadata": {},
     "output_type": "execute_result"
    }
   ],
   "source": [
    "import numpy as np\n",
    "p_initial = np.array([22.15, 89.32, 56.77])\n",
    "p_final = np.array([23.05, 87.32, 53.13])\n",
    "r = (p_final - p_initial) / p_initial\n",
    "r"
   ]
  },
  {
   "cell_type": "markdown",
   "metadata": {
    "id": "dWE8DsS28u7K"
   },
   "source": [
    "#### Vector $L_1$ Norm\n",
    "\n",
    "The length of a vector can be calculated using the $L_1$ norm. The notation for the $L_1$ norm of a vector is $||v||_1$. As such, this\n",
    "length is sometimes called the Manhattan norm. The norm is a calculation of Manhattan distance from the origin of the vector space.\n",
    "\n",
    "$$||v||_1=|a_1|+|a_2|+|a_3|$$\n",
    "\n",
    "In several machine learning applications, it is important to discriminate between\n",
    "elements that are exactly zero and elements that are small but nonzero. In these\n",
    "cases, we turn to a function that grows at the same rate in all locations, but retains\n",
    "mathematical simplicity: the $L_1$ norm"
   ]
  },
  {
   "cell_type": "code",
   "execution_count": null,
   "metadata": {
    "id": "H3Kgpk5k8u7L",
    "outputId": "47499775-0f19-429f-fe87-e59b4d34ce03"
   },
   "outputs": [
    {
     "name": "stdout",
     "output_type": "stream",
     "text": [
      "[1 2 3]\n",
      "6.0\n"
     ]
    }
   ],
   "source": [
    "# vector L1 norm\n",
    "from numpy import array\n",
    "from numpy.linalg import norm\n",
    "# define vector\n",
    "a = array([1, 2, 3])\n",
    "print(a)\n",
    "# calculate norm\n",
    "l1 = norm(a, 1)\n",
    "print(l1)"
   ]
  },
  {
   "cell_type": "markdown",
   "metadata": {
    "id": "agMPocYs8u7L"
   },
   "source": [
    "#### Vector $L_2$ Norm\n",
    "\n",
    "The $L_2(v)=||v||_2$ norm calculates the distance of the vector coordinate from the origin of the vector space and it is known as Euclidean norm or Euclidean distance from the origin. It is a positive value.\n",
    "\n",
    "$$||v||_2=\\sqrt{a_1^2+a_2^2+a_3^2}$$\n"
   ]
  },
  {
   "cell_type": "code",
   "execution_count": null,
   "metadata": {
    "id": "dQZk6zqr8u7L",
    "outputId": "732efbe8-eb6b-45a6-bb6a-a90555fafd6a"
   },
   "outputs": [
    {
     "name": "stdout",
     "output_type": "stream",
     "text": [
      "[1 2 3]\n",
      "3.7416573867739413\n"
     ]
    }
   ],
   "source": [
    "# vector L2 norm\n",
    "from numpy import array\n",
    "from numpy.linalg import norm\n",
    "# define vector\n",
    "a = array([1, 2, 3])\n",
    "print(a)\n",
    "# calculate norm\n",
    "l2 = norm(a)\n",
    "print(l2)"
   ]
  },
  {
   "cell_type": "code",
   "execution_count": null,
   "metadata": {
    "id": "uCiemybS8u7L"
   },
   "outputs": [],
   "source": [
    "v"
   ]
  }
 ],
 "metadata": {
  "colab": {
   "name": "M1-01-Vectors.ipynb",
   "provenance": []
  },
  "kernelspec": {
   "display_name": "Python 3 (ipykernel)",
   "language": "python",
   "name": "python3"
  },
  "language_info": {
   "codemirror_mode": {
    "name": "ipython",
    "version": 3
   },
   "file_extension": ".py",
   "mimetype": "text/x-python",
   "name": "python",
   "nbconvert_exporter": "python",
   "pygments_lexer": "ipython3",
   "version": "3.10.4"
  }
 },
 "nbformat": 4,
 "nbformat_minor": 4
}
